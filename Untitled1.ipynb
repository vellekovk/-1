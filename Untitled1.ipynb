{
  "nbformat": 4,
  "nbformat_minor": 0,
  "metadata": {
    "colab": {
      "provenance": [],
      "toc_visible": true
    },
    "kernelspec": {
      "name": "python3",
      "display_name": "Python 3"
    },
    "language_info": {
      "name": "python"
    }
  },
  "cells": [
    {
      "cell_type": "markdown",
      "source": [
        "# Новый раздел"
      ],
      "metadata": {
        "id": "MehGgf6FShkH"
      }
    },
    {
      "cell_type": "code",
      "source": [
        "a=input('Введите ваши фамилию, имя, отчество')\n",
        "b=input('сколько вам лет?')\n",
        "c=input('где вы живёте?')\n",
        "print('ваше имя',a)\n",
        "print('ваш возраст',b)\n",
        "print('вы хивете в',c)\n"
      ],
      "metadata": {
        "colab": {
          "base_uri": "https://localhost:8080/"
        },
        "id": "xTJAbo_4MhkR",
        "outputId": "0c4e9df8-06a0-4eeb-94c1-b415aa7a6de8"
      },
      "execution_count": 6,
      "outputs": [
        {
          "output_type": "stream",
          "name": "stdout",
          "text": [
            "Введите ваши фамилию, имя, отчествоИванов Иван Иванович\n",
            "сколько вам лет?15\n",
            "где вы живёте?усснрийск\n",
            "ваше имя Иванов Иван Иванович\n",
            "ваш возраст 15\n",
            "вы хивете в усснрийск\n"
          ]
        }
      ]
    },
    {
      "cell_type": "markdown",
      "source": [],
      "metadata": {
        "id": "_atvVhDWSgUj"
      }
    },
    {
      "cell_type": "markdown",
      "source": [
        "# Новый раздел"
      ],
      "metadata": {
        "id": "hZA8k6erN1Fl"
      }
    }
  ]
}